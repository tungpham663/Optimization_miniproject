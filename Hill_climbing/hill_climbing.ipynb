{
 "cells": [
  {
   "cell_type": "code",
   "execution_count": 2,
   "metadata": {},
   "outputs": [],
   "source": [
    "import numpy as np\n",
    "import random\n",
    "import os\n",
    "import time"
   ]
  },
  {
   "cell_type": "code",
   "execution_count": 3,
   "metadata": {},
   "outputs": [],
   "source": [
    "def data_reader(data_path):\n",
    "    with open(data_path) as f:\n",
    "        d_lines = f.read().splitlines()\n",
    "        N=int(d_lines[0])\n",
    "        subject_student_num=[int(x) for x in d_lines[1].split()]\n",
    "        M=int(d_lines[2])\n",
    "        room_capacity=[int(x) for x in d_lines[3].split()]\n",
    "        k=int(d_lines[4])\n",
    "        constraints=[]\n",
    "        for i in range(k):\n",
    "            constraints.append([int(x) for x in d_lines[5+i].split()])\n",
    "    return N, subject_student_num, M, room_capacity, constraints"
   ]
  },
  {
   "cell_type": "code",
   "execution_count": 4,
   "metadata": {},
   "outputs": [],
   "source": [
    "def constraint_matrix(n, subject_student_num, m, room_capacity):\n",
    "    lst_subject=range(n)\n",
    "    lst_room=range(m)\n",
    "    ct_matrix=[]\n",
    "    for i in range(n):\n",
    "        row=[]\n",
    "        for j in range(m):\n",
    "            if subject_student_num[i]<=room_capacity[j]:\n",
    "                row.append(1)\n",
    "            else:\n",
    "                row.append(0)\n",
    "        ct_matrix.append(row)\n",
    "    return np.array(ct_matrix)"
   ]
  },
  {
   "cell_type": "code",
   "execution_count": 5,
   "metadata": {},
   "outputs": [],
   "source": [
    "def random_initialize(matrix,constraints,seed_value):\n",
    "    random.seed(seed_value)\n",
    "    (n,m)=matrix.shape\n",
    "    satisfied_list=[]\n",
    "    ordered_subjects=[]\n",
    "    \n",
    "    for i in range(n):\n",
    "        for j in range(m):\n",
    "            if matrix[i][j]==1:\n",
    "                satisfied_list.append([i,j])\n",
    "    \n",
    "    schedule=[]\n",
    "\n",
    "    while len(ordered_subjects)<n:\n",
    "        period=[]\n",
    "        take_list=satisfied_list[:]\n",
    "        ordered_rooms=[]\n",
    "        while len(take_list)>0:\n",
    "            random_ele=random.choice(take_list)\n",
    "            period.append(random_ele)\n",
    "            ordered_subjects.append(random_ele[0])\n",
    "            ordered_rooms.append(random_ele[1])\n",
    "            satisfied_remove_lst=[]\n",
    "            for ele in satisfied_list:\n",
    "                if ele[0] in ordered_subjects:\n",
    "                    satisfied_remove_lst.append(ele)\n",
    "            satisfied_list=[x for x in satisfied_list if x not in satisfied_remove_lst]\n",
    "            remove_lst=[]\n",
    "            for ele in take_list:\n",
    "                for y in ordered_subjects:\n",
    "                    if [ele[0],y] in constraints or [y,ele[0]] in constraints or ele[0] in ordered_subjects or ele[1] in ordered_rooms:\n",
    "                        remove_lst.append(ele)\n",
    "            take_list=[x for x in take_list if x not in remove_lst]\n",
    "        schedule.append(period)\n",
    "    return schedule"
   ]
  },
  {
   "cell_type": "code",
   "execution_count": 59,
   "metadata": {},
   "outputs": [
    {
     "data": {
      "text/plain": [
       "[[[42, 9],\n",
       "  [14, 7],\n",
       "  [46, 2],\n",
       "  [45, 4],\n",
       "  [41, 3],\n",
       "  [26, 6],\n",
       "  [8, 8],\n",
       "  [30, 5],\n",
       "  [7, 1],\n",
       "  [13, 0]],\n",
       " [[29, 8],\n",
       "  [17, 1],\n",
       "  [38, 7],\n",
       "  [34, 4],\n",
       "  [49, 5],\n",
       "  [19, 2],\n",
       "  [25, 3],\n",
       "  [1, 9],\n",
       "  [11, 0]],\n",
       " [[40, 1], [21, 9], [15, 8], [20, 7], [9, 4], [39, 3]],\n",
       " [[33, 3], [5, 4], [2, 7], [24, 9]],\n",
       " [[44, 3], [4, 9], [23, 4]],\n",
       " [[3, 8]],\n",
       " [[0, 9]],\n",
       " [[6, 7]],\n",
       " [[48, 0]],\n",
       " [[28, 9]],\n",
       " [[12, 5]],\n",
       " [[35, 7]],\n",
       " [[37, 1]],\n",
       " [[16, 7]],\n",
       " [[43, 9]],\n",
       " [[22, 4]],\n",
       " [[47, 3]],\n",
       " [[32, 5]],\n",
       " [[36, 9]],\n",
       " [[18, 4]],\n",
       " [[10, 9]],\n",
       " [[31, 9]],\n",
       " [[27, 4]]]"
      ]
     },
     "execution_count": 59,
     "metadata": {},
     "output_type": "execute_result"
    }
   ],
   "source": [
    "data_path=\"/Users/Admin/Optimization project/data/medium_size_few_constraints/input_1.txt\"\n",
    "N, subject_student_num, M, room_capacity, constraints = data_reader(data_path)\n",
    "matrix = constraint_matrix(N, subject_student_num, M, room_capacity)\n",
    "random_initialize(matrix, constraints, 12)"
   ]
  },
  {
   "cell_type": "code",
   "execution_count": 6,
   "metadata": {},
   "outputs": [],
   "source": [
    "def generate_neighbour(current_schedule,room_num,lst_rooms,room_capacity,subject_lst,constraints):\n",
    "    x=random.choice([1,2])\n",
    "    schedule=current_schedule[:]\n",
    "    if x==1:\n",
    "        period=random.choice(schedule)\n",
    "        current_rooms=[x[1] for x in period]\n",
    "        if len(current_rooms)<room_num:\n",
    "            order_room=[]\n",
    "            for course in period:\n",
    "                remain_rooms=[x for x in lst_rooms if x not in order_room]\n",
    "                for room in remain_rooms:\n",
    "                    if room_capacity[room]>=subject_lst[course[0]]:\n",
    "                        course[1]=room\n",
    "                        order_room.append(room)\n",
    "                        break\n",
    "                continue\n",
    "            return schedule\n",
    "        else:\n",
    "            return current_schedule\n",
    "    if x==2:\n",
    "        if len(schedule)>=2:\n",
    "            period1,period2=random.sample(schedule,2)\n",
    "            lst_room1=[x[1] for x in period1]\n",
    "            lst_room2=[x[1] for x in period2]\n",
    "            diff_lst=[x for x in lst_room1 if x in lst_room2]\n",
    "            flag=0\n",
    "            for course1 in period1:\n",
    "                for course2 in period2:\n",
    "                    if [course1[0],course2[0]] in constraints or [course2[0],course1[0]] in constraints:\n",
    "                        flag=1\n",
    "                        break\n",
    "            if len(period1)<room_num and len(period2)<room_num:\n",
    "                if flag==0:\n",
    "                    if len(diff_lst)==0:\n",
    "                        schedule_minus_two_period=[x for x in schedule if x!=period1 and x!=period2]\n",
    "                        for course in period2:\n",
    "                            period1.append(course)\n",
    "                        schedule_minus_two_period.append(period1)\n",
    "                        final_schedule=schedule_minus_two_period\n",
    "                        return final_schedule\n",
    "                    else:\n",
    "                        return current_schedule\n",
    "                if flag==1:\n",
    "                    return current_schedule\n",
    "            else:\n",
    "                return current_schedule\n",
    "        else:\n",
    "            return current_schedule"
   ]
  },
  {
   "cell_type": "code",
   "execution_count": 7,
   "metadata": {},
   "outputs": [],
   "source": [
    "def function(schedule):\n",
    "    assert type(schedule)==list\n",
    "    return len(schedule)"
   ]
  },
  {
   "cell_type": "code",
   "execution_count": 8,
   "metadata": {},
   "outputs": [],
   "source": [
    "def hill_climbing(n, subject_student_num, m, room_capacity, constraints, seed_value, max_iters):\n",
    "    initial_schedule=random_initialize(constraint_matrix(n, subject_student_num, m, room_capacity),constraints,seed_value)\n",
    "    current_schedule=initial_schedule\n",
    "    period_min=function(initial_schedule)\n",
    "    for i in range(max_iters):\n",
    "        if len(current_schedule)>2:\n",
    "            new_schedule=generate_neighbour(current_schedule,m,range(m),room_capacity,subject_student_num,constraints)\n",
    "            if function(new_schedule)<period_min:\n",
    "                period_min=function(new_schedule)\n",
    "            current_schedule=new_schedule\n",
    "    return current_schedule\n",
    "        "
   ]
  },
  {
   "cell_type": "code",
   "execution_count": 64,
   "metadata": {},
   "outputs": [
    {
     "data": {
      "text/plain": [
       "[[[42, 9],\n",
       "  [14, 7],\n",
       "  [46, 2],\n",
       "  [45, 4],\n",
       "  [41, 3],\n",
       "  [26, 6],\n",
       "  [8, 8],\n",
       "  [30, 5],\n",
       "  [7, 1],\n",
       "  [13, 0]],\n",
       " [[29, 1],\n",
       "  [17, 2],\n",
       "  [38, 3],\n",
       "  [34, 4],\n",
       "  [49, 5],\n",
       "  [19, 0],\n",
       "  [25, 7],\n",
       "  [1, 9],\n",
       "  [11, 6]],\n",
       " [[40, 0], [21, 9], [15, 1], [20, 4], [9, 4], [39, 3]],\n",
       " [[44, 1], [4, 4], [23, 9]],\n",
       " [[36, 4]],\n",
       " [[31, 9], [18, 4]],\n",
       " [[27, 4], [43, 1]],\n",
       " [[32, 1], [35, 4], [22, 7], [10, 9]],\n",
       " [[48, 0], [47, 1], [0, 4]],\n",
       " [[28, 4], [16, 1], [6, 0], [12, 2]],\n",
       " [[3, 0], [33, 3], [5, 4], [2, 7], [24, 9], [37, 1]]]"
      ]
     },
     "execution_count": 64,
     "metadata": {},
     "output_type": "execute_result"
    }
   ],
   "source": [
    "hill_climbing(N, subject_student_num, M, room_capacity, constraints, 12, 10000)"
   ]
  },
  {
   "cell_type": "code",
   "execution_count": 77,
   "metadata": {},
   "outputs": [],
   "source": [
    "def collect_data(data_path=\"/Users/Admin/Optimization project/data/\"):\n",
    "    dirs=[data_path + dirname + \"/\"\n",
    "          for dirname in os.listdir(data_path) if not os.path.isfile(data_path+dirname)]\n",
    "    input_file=[\"input_\"+str(i)+\".txt\" for i in range(1,101)]\n",
    "    def collect_data_from(parent_path,input_lst):\n",
    "        data=[]\n",
    "        files=[(filename,parent_path+filename) for filename in input_lst if os.path.isfile(parent_path + filename)]\n",
    "        for filename,filepath in files:\n",
    "            with open(filepath) as f:\n",
    "                N, subject_student_num, M, room_capacity, constraints = data_reader(filepath)\n",
    "                start=time.time()\n",
    "                score=len(hill_climbing(N, subject_student_num, M, room_capacity, constraints, 12, 10000))\n",
    "                end=time.time()\n",
    "                content=str(filename)+\"<fff>\"+\"Score:\"+str(score)+\"<fff>\"+\"Time:\"+str(end-start)\n",
    "                data.append(content)\n",
    "        return data\n",
    "    \n",
    "    with open(\"/Users/Admin/Optimization project/data/large_size_few_constraints_result.txt\",'w') as f:\n",
    "        data1=collect_data_from(dirs[0],input_file)\n",
    "        f.write('\\n'.join(data1))\n",
    "    with open(\"/Users/Admin/Optimization project/data/large_size_many_constraints_result.txt\",'w') as f:\n",
    "        data2=collect_data_from(dirs[1],input_file)\n",
    "        f.write('\\n'.join(data2))\n",
    "    with open(\"/Users/Admin/Optimization project/data/medium_size_few_constraints_result.txt\",'w') as f:\n",
    "        data3=collect_data_from(dirs[2],input_file)\n",
    "        f.write('\\n'.join(data3))\n",
    "    with open(\"/Users/Admin/Optimization project/data/medium_size_many_constraints_result.txt\",'w') as f:\n",
    "        data4=collect_data_from(dirs[3],input_file)\n",
    "        f.write('\\n'.join(data4))\n",
    "    with open(\"/Users/Admin/Optimization project/data/small_size_few_constraints_result.txt\",'w') as f:\n",
    "        data5=collect_data_from(dirs[4],input_file)\n",
    "        f.write('\\n'.join(data5))\n",
    "    with open(\"/Users/Admin/Optimization project/data/small_size_many_constraints_result.txt\",'w') as f:\n",
    "        data6=collect_data_from(dirs[5],input_file)\n",
    "        f.write('\\n'.join(data6))\n",
    "    "
   ]
  },
  {
   "cell_type": "code",
   "execution_count": 78,
   "metadata": {},
   "outputs": [],
   "source": [
    "collect_data()"
   ]
  },
  {
   "cell_type": "code",
   "execution_count": 1,
   "metadata": {},
   "outputs": [
    {
     "name": "stdout",
     "output_type": "stream",
     "text": [
      "(22.12, 4.117746713161469)\n",
      "(36.32, 48.50418900966644)\n",
      "(15.89, 0.29266653060913084)\n",
      "(24.58, 1.859177348613739)\n",
      "(7.33, 0.03188578605651855)\n",
      "(8.92, 0.03417684316635132)\n"
     ]
    }
   ],
   "source": [
    "def read_avg(data_path):\n",
    "    with open(data_path) as f:\n",
    "        lines=f.read().splitlines()\n",
    "        total_score=total_time=0\n",
    "        for line in lines:\n",
    "            features=line.split('<fff>')\n",
    "            score=int(features[1].split(':')[1])\n",
    "            time=float(features[2].split(':')[1])\n",
    "            total_score+=score\n",
    "            total_time+=time\n",
    "    return total_score/100, total_time/100\n",
    "print(read_avg(\"/Users/Admin/Optimization project/data/large_size_few_constraints_result.txt\"))\n",
    "print(read_avg(\"/Users/Admin/Optimization project/data/large_size_many_constraints_result.txt\"))\n",
    "print(read_avg(\"/Users/Admin/Optimization project/data/medium_size_few_constraints_result.txt\"))\n",
    "print(read_avg(\"/Users/Admin/Optimization project/data/medium_size_many_constraints_result.txt\"))\n",
    "print(read_avg(\"/Users/Admin/Optimization project/data/small_size_few_constraints_result.txt\"))\n",
    "print(read_avg(\"/Users/Admin/Optimization project/data/small_size_many_constraints_result.txt\"))"
   ]
  },
  {
   "cell_type": "code",
   "execution_count": 10,
   "metadata": {},
   "outputs": [
    {
     "data": {
      "image/png": "[encoded data removed]",
      "text/plain": [
       "<Figure size 640x480 with 1 Axes>"
      ]
     },
     "metadata": {},
     "output_type": "display_data"
    }
   ],
   "source": [
    "import matplotlib.pyplot as plt\n",
    "\n",
    "def hill_climbing_report(n, subject_student_num, m, room_capacity, constraints, seed_value, max_iters):\n",
    "    initial_schedule=random_initialize(constraint_matrix(n, subject_student_num, m, room_capacity),constraints,seed_value)\n",
    "    current_schedule=initial_schedule\n",
    "    period_min=function(initial_schedule)\n",
    "    score=[period_min]\n",
    "    iter_lst=[1]\n",
    "    for i in range(1,max_iters+1):\n",
    "        if len(current_schedule)>=2:\n",
    "            new_schedule=generate_neighbour(current_schedule,m,range(m),room_capacity,subject_student_num,constraints)\n",
    "            if function(new_schedule)<period_min:\n",
    "                period_min=function(new_schedule)\n",
    "            current_schedule=new_schedule\n",
    "        if i%100==0:\n",
    "            score.append(period_min)\n",
    "            iter_lst.append(i)\n",
    "    return iter_lst, score\n",
    "\n",
    "N1, subject_student_num1, M1, room_capacity1, constraints1 = data_reader(\"/Users/Admin/Optimization project/data/large_size_few_constraints/input_1.txt\")\n",
    "x1, y1 = hill_climbing_report(N1, subject_student_num1, M1, room_capacity1, constraints1, 12, 2000)\n",
    "N2, subject_student_num2, M2, room_capacity2, constraints2 = data_reader(\"/Users/Admin/Optimization project/data/large_size_many_constraints/input_1.txt\")\n",
    "x2, y2 = hill_climbing_report(N2, subject_student_num2, M2, room_capacity2, constraints2, 12, 2000)\n",
    "N3, subject_student_num3, M3, room_capacity3, constraints3 = data_reader(\"/Users/Admin/Optimization project/data/medium_size_few_constraints/input_1.txt\")\n",
    "x3, y3 = hill_climbing_report(N3, subject_student_num3, M3, room_capacity3, constraints3, 12, 2000)\n",
    "N4, subject_student_num4, M4, room_capacity4, constraints4 = data_reader(\"/Users/Admin/Optimization project/data/medium_size_many_constraints/input_1.txt\")\n",
    "x4, y4 = hill_climbing_report(N4, subject_student_num4, M4, room_capacity4, constraints4, 12, 2000)\n",
    "N5, subject_student_num5, M5, room_capacity5, constraints5 = data_reader(\"/Users/Admin/Optimization project/data/small_size_few_constraints/input_1.txt\")\n",
    "x5, y5 = hill_climbing_report(N5, subject_student_num5, M5, room_capacity5, constraints5, 12, 2000)\n",
    "N6, subject_student_num6, M6, room_capacity6, constraints6 = data_reader(\"/Users/Admin/Optimization project/data/small_size_many_constraints/input_1.txt\")\n",
    "x6, y6 = hill_climbing_report(N6, subject_student_num6, M6, room_capacity6, constraints6, 12, 2000)\n",
    "\n",
    "plt.plot(x1, y1, label=\"large_size_few_constraints\")\n",
    "plt.plot(x2, y2, label=\"large_size_many_constraints\")\n",
    "plt.plot(x3, y3, label=\"medium_size_few_constraints\")\n",
    "plt.plot(x4, y4, label=\"medium_size_many_constraints\")\n",
    "plt.plot(x5, y5, label=\"small_size_few_constraints\")\n",
    "plt.plot(x6, y6, label=\"small_size_many_constraints\")\n",
    "plt.legend()\n",
    "plt.xlabel(\"Number of iterations\")\n",
    "plt.ylabel(\"Score/The number of periods\")\n",
    "plt.show()"
   ]
  },
  {
   "cell_type": "code",
   "execution_count": null,
   "metadata": {},
   "outputs": [],
   "source": []
  }
 ],
 "metadata": {
  "kernelspec": {
   "display_name": "Python 3 (ipykernel)",
   "language": "python",
   "name": "python3"
  },
  "language_info": {
   "codemirror_mode": {
    "name": "ipython",
    "version": 3
   },
   "file_extension": ".py",
   "mimetype": "text/x-python",
   "name": "python",
   "nbconvert_exporter": "python",
   "pygments_lexer": "ipython3",
   "version": "3.10.4"
  },
  "vscode": {
   "interpreter": {
    "hash": "a42ccb73e7d9bfdf27e036f1d2b8b681e55fc0743cc5586bc2474d4a60f4b886"
   }
  }
 },
 "nbformat": 4,
 "nbformat_minor": 2
}
